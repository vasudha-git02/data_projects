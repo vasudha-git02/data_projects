{
 "cells": [
  {
   "cell_type": "code",
   "execution_count": 1,
   "id": "91cebd1d",
   "metadata": {},
   "outputs": [],
   "source": [
    "import pandas as pd\n",
    "import numpy as np\n",
    "from datetime import datetime,timedelta\n",
    "import random as rd\n",
    "import os"
   ]
  },
  {
   "cell_type": "code",
   "execution_count": 2,
   "id": "4a301b5a",
   "metadata": {},
   "outputs": [
    {
     "data": {
      "text/plain": [
       "'C:\\\\Users\\\\vasudha.tanniru\\\\Documents\\\\GitHub\\\\data_projects\\\\iot-power-usage-analyzer'"
      ]
     },
     "execution_count": 2,
     "metadata": {},
     "output_type": "execute_result"
    }
   ],
   "source": [
    "os.getcwd()"
   ]
  },
  {
   "cell_type": "code",
   "execution_count": 3,
   "id": "950c49ca",
   "metadata": {},
   "outputs": [
    {
     "name": "stdout",
     "output_type": "stream",
     "text": [
      "[Timestamp('2025-05-01 00:00:00'), Timestamp('2025-05-01 00:10:00'), Timestamp('2025-05-01 00:20:00'), Timestamp('2025-05-01 00:30:00'), Timestamp('2025-05-01 00:40:00')]\n"
     ]
    }
   ],
   "source": [
    "timestamp_list = []\n",
    "timestamp_range = pd.date_range('2025-05-01 00:00','2025-05-07 00:00',freq=\"10min\")\n",
    "# for i in timestamp_range:\n",
    "#     timestamp_list.append(i)\n",
    "timestamp_list = list(timestamp_range)\n",
    "print(timestamp_list[:5])"
   ]
  },
  {
   "cell_type": "code",
   "execution_count": 4,
   "id": "f84143ac",
   "metadata": {},
   "outputs": [
    {
     "data": {
      "text/plain": [
       "865"
      ]
     },
     "execution_count": 4,
     "metadata": {},
     "output_type": "execute_result"
    }
   ],
   "source": [
    "len(timestamp_list)"
   ]
  },
  {
   "cell_type": "code",
   "execution_count": 5,
   "id": "77cf116c",
   "metadata": {},
   "outputs": [
    {
     "name": "stdout",
     "output_type": "stream",
     "text": [
      "['HH000', 'HH001', 'HH002', 'HH003', 'HH004', 'HH005', 'HH006', 'HH007', 'HH008', 'HH009']\n"
     ]
    }
   ],
   "source": [
    "household_list=[]\n",
    "for i in range(10):\n",
    "    household_list.append('HH'+str(i).zfill(3))\n",
    "print(household_list)"
   ]
  },
  {
   "cell_type": "code",
   "execution_count": 6,
   "id": "cd8a0d2d",
   "metadata": {},
   "outputs": [
    {
     "name": "stdout",
     "output_type": "stream",
     "text": [
      "[[Timestamp('2025-05-01 00:00:00'), 'HH000'], [Timestamp('2025-05-01 00:00:00'), 'HH001'], [Timestamp('2025-05-01 00:00:00'), 'HH002']]\n"
     ]
    }
   ],
   "source": [
    "base_records = []\n",
    "for timestamp in timestamp_list:    \n",
    "    for house in household_list:\n",
    "        base_records.append([timestamp,house])\n",
    "print(base_records[:3])\n",
    "        "
   ]
  },
  {
   "cell_type": "code",
   "execution_count": 7,
   "id": "581ace1a",
   "metadata": {},
   "outputs": [
    {
     "name": "stdout",
     "output_type": "stream",
     "text": [
      "[]\n"
     ]
    }
   ],
   "source": [
    "full_data_records = []\n",
    "print(full_data_records[:4])"
   ]
  },
  {
   "cell_type": "code",
   "execution_count": 8,
   "id": "1603aec7",
   "metadata": {},
   "outputs": [],
   "source": [
    "# voltage = np.random.normal(loc=230,scale=3)\n",
    "# usage = np.random.exponential(scale=0.2)\n",
    "# device_status = rd.choices(['ON','OFF'],weights=[85,15])[0]\n",
    "# region = rd.choice(['North','South','East','West'])"
   ]
  },
  {
   "cell_type": "code",
   "execution_count": 9,
   "id": "60f5be0c",
   "metadata": {},
   "outputs": [
    {
     "name": "stdout",
     "output_type": "stream",
     "text": [
      "[[Timestamp('2025-05-01 00:00:00'), 'HH000', 229.58, 0.249, 'ON', 'East'], [Timestamp('2025-05-01 00:00:00'), 'HH001', 226.37, 0.208, 'ON', 'South'], [Timestamp('2025-05-01 00:00:00'), 'HH002', 231.92, 0.005, 'ON', 'South'], [Timestamp('2025-05-01 00:00:00'), 'HH003', 230.77, 0.106, 'ON', 'East']]\n"
     ]
    }
   ],
   "source": [
    "for timestamp,household_id in base_records:\n",
    "    voltage = round(np.random.normal(loc=230,scale=3),2)\n",
    "    usage = round(np.random.exponential(scale=0.2),3)\n",
    "    device_status = rd.choices(['ON','OFF'],weights=[85,15])[0]\n",
    "    region = rd.choice(['North','South','East','West'])\n",
    "    full_data_records.append([timestamp,household_id,voltage,usage,device_status,region])\n",
    "print(full_data_records[:4])"
   ]
  },
  {
   "cell_type": "code",
   "execution_count": 10,
   "id": "26c24b24",
   "metadata": {},
   "outputs": [],
   "source": [
    "df = pd.DataFrame(full_data_records, columns=[\n",
    "    'timestamp', 'household_id', 'voltage', 'usage_kwh', 'device_status', 'region'\n",
    "          ])"
   ]
  },
  {
   "cell_type": "code",
   "execution_count": 11,
   "id": "10811e65",
   "metadata": {},
   "outputs": [
    {
     "data": {
      "text/html": [
       "<div>\n",
       "<style scoped>\n",
       "    .dataframe tbody tr th:only-of-type {\n",
       "        vertical-align: middle;\n",
       "    }\n",
       "\n",
       "    .dataframe tbody tr th {\n",
       "        vertical-align: top;\n",
       "    }\n",
       "\n",
       "    .dataframe thead th {\n",
       "        text-align: right;\n",
       "    }\n",
       "</style>\n",
       "<table border=\"1\" class=\"dataframe\">\n",
       "  <thead>\n",
       "    <tr style=\"text-align: right;\">\n",
       "      <th></th>\n",
       "      <th>timestamp</th>\n",
       "      <th>voltage</th>\n",
       "      <th>usage_kwh</th>\n",
       "    </tr>\n",
       "  </thead>\n",
       "  <tbody>\n",
       "    <tr>\n",
       "      <th>count</th>\n",
       "      <td>8650</td>\n",
       "      <td>8650.000000</td>\n",
       "      <td>8650.000000</td>\n",
       "    </tr>\n",
       "    <tr>\n",
       "      <th>mean</th>\n",
       "      <td>2025-05-04 00:00:00</td>\n",
       "      <td>229.957756</td>\n",
       "      <td>0.200866</td>\n",
       "    </tr>\n",
       "    <tr>\n",
       "      <th>min</th>\n",
       "      <td>2025-05-01 00:00:00</td>\n",
       "      <td>218.090000</td>\n",
       "      <td>0.000000</td>\n",
       "    </tr>\n",
       "    <tr>\n",
       "      <th>25%</th>\n",
       "      <td>2025-05-02 12:00:00</td>\n",
       "      <td>227.960000</td>\n",
       "      <td>0.057000</td>\n",
       "    </tr>\n",
       "    <tr>\n",
       "      <th>50%</th>\n",
       "      <td>2025-05-04 00:00:00</td>\n",
       "      <td>229.930000</td>\n",
       "      <td>0.137000</td>\n",
       "    </tr>\n",
       "    <tr>\n",
       "      <th>75%</th>\n",
       "      <td>2025-05-05 12:00:00</td>\n",
       "      <td>231.907500</td>\n",
       "      <td>0.274000</td>\n",
       "    </tr>\n",
       "    <tr>\n",
       "      <th>max</th>\n",
       "      <td>2025-05-07 00:00:00</td>\n",
       "      <td>240.370000</td>\n",
       "      <td>2.011000</td>\n",
       "    </tr>\n",
       "    <tr>\n",
       "      <th>std</th>\n",
       "      <td>NaN</td>\n",
       "      <td>2.970779</td>\n",
       "      <td>0.204945</td>\n",
       "    </tr>\n",
       "  </tbody>\n",
       "</table>\n",
       "</div>"
      ],
      "text/plain": [
       "                 timestamp      voltage    usage_kwh\n",
       "count                 8650  8650.000000  8650.000000\n",
       "mean   2025-05-04 00:00:00   229.957756     0.200866\n",
       "min    2025-05-01 00:00:00   218.090000     0.000000\n",
       "25%    2025-05-02 12:00:00   227.960000     0.057000\n",
       "50%    2025-05-04 00:00:00   229.930000     0.137000\n",
       "75%    2025-05-05 12:00:00   231.907500     0.274000\n",
       "max    2025-05-07 00:00:00   240.370000     2.011000\n",
       "std                    NaN     2.970779     0.204945"
      ]
     },
     "execution_count": 11,
     "metadata": {},
     "output_type": "execute_result"
    }
   ],
   "source": [
    "df.describe()"
   ]
  },
  {
   "cell_type": "code",
   "execution_count": 12,
   "id": "ad7887ce",
   "metadata": {},
   "outputs": [
    {
     "name": "stdout",
     "output_type": "stream",
     "text": [
      "<class 'pandas.core.frame.DataFrame'>\n",
      "RangeIndex: 8650 entries, 0 to 8649\n",
      "Data columns (total 6 columns):\n",
      " #   Column         Non-Null Count  Dtype         \n",
      "---  ------         --------------  -----         \n",
      " 0   timestamp      8650 non-null   datetime64[ns]\n",
      " 1   household_id   8650 non-null   object        \n",
      " 2   voltage        8650 non-null   float64       \n",
      " 3   usage_kwh      8650 non-null   float64       \n",
      " 4   device_status  8650 non-null   object        \n",
      " 5   region         8650 non-null   object        \n",
      "dtypes: datetime64[ns](1), float64(2), object(3)\n",
      "memory usage: 405.6+ KB\n",
      "None\n",
      "8650\n"
     ]
    }
   ],
   "source": [
    "\n",
    "print(df.info())\n",
    "print(len(df))\n"
   ]
  },
  {
   "cell_type": "code",
   "execution_count": 13,
   "id": "a5de14f5",
   "metadata": {},
   "outputs": [],
   "source": [
    "df.to_csv('data/iot_power_usage.csv',index=False)"
   ]
  },
  {
   "cell_type": "code",
   "execution_count": 14,
   "id": "3497ab45",
   "metadata": {},
   "outputs": [
    {
     "name": "stdout",
     "output_type": "stream",
     "text": [
      "['Owner_000', 'Owner_001', 'Owner_002', 'Owner_003', 'Owner_004', 'Owner_005', 'Owner_006', 'Owner_007', 'Owner_008', 'Owner_009']\n"
     ]
    }
   ],
   "source": [
    "owner_name = []\n",
    "for i in range(10):\n",
    "    owner_name.append('Owner_'+str(i).zfill(3))\n",
    "print(owner_name)"
   ]
  },
  {
   "cell_type": "code",
   "execution_count": 15,
   "id": "0c5dad5e",
   "metadata": {},
   "outputs": [
    {
     "name": "stdout",
     "output_type": "stream",
     "text": [
      "2024-10-22\n"
     ]
    }
   ],
   "source": [
    "\n",
    "start_date = datetime(2024, 5, 1)\n",
    "end_date = datetime(2025, 4, 30)\n",
    "delta_days = (end_date - start_date).days\n",
    "random_days = rd.randint(0, delta_days)\n",
    "random_install_date = start_date + timedelta(days=random_days)\n",
    "formatted_date = random_install_date.date() \n",
    "print(formatted_date)\n"
   ]
  },
  {
   "cell_type": "code",
   "execution_count": 16,
   "id": "103777d9",
   "metadata": {},
   "outputs": [
    {
     "name": "stdout",
     "output_type": "stream",
     "text": [
      "[['HH000', 'Owner_005', 'West', datetime.date(2024, 10, 22)], ['HH001', 'Owner_008', 'East', datetime.date(2024, 10, 22)], ['HH002', 'Owner_005', 'East', datetime.date(2024, 10, 22)], ['HH003', 'Owner_003', 'East', datetime.date(2024, 10, 22)], ['HH004', 'Owner_001', 'East', datetime.date(2024, 10, 22)], ['HH005', 'Owner_003', 'East', datetime.date(2024, 10, 22)]]\n"
     ]
    }
   ],
   "source": [
    "owner_data = []\n",
    "for house in household_list:\n",
    "    owner = rd.choice(owner_name)\n",
    "    region = rd.choice(['North','South','East','West'])\n",
    "    start_date = formatted_date\n",
    "    owner_data.append([house,owner,region,start_date])\n",
    "\n",
    "print(owner_data[:6])"
   ]
  },
  {
   "cell_type": "code",
   "execution_count": 17,
   "id": "b50604ae",
   "metadata": {},
   "outputs": [],
   "source": [
    "df3 = pd.DataFrame(owner_data, columns=[\n",
    "     'household_id', 'owner_name', 'region', 'install_date'\n",
    "          ])"
   ]
  },
  {
   "cell_type": "code",
   "execution_count": 18,
   "id": "167810ff",
   "metadata": {},
   "outputs": [
    {
     "data": {
      "text/html": [
       "<div>\n",
       "<style scoped>\n",
       "    .dataframe tbody tr th:only-of-type {\n",
       "        vertical-align: middle;\n",
       "    }\n",
       "\n",
       "    .dataframe tbody tr th {\n",
       "        vertical-align: top;\n",
       "    }\n",
       "\n",
       "    .dataframe thead th {\n",
       "        text-align: right;\n",
       "    }\n",
       "</style>\n",
       "<table border=\"1\" class=\"dataframe\">\n",
       "  <thead>\n",
       "    <tr style=\"text-align: right;\">\n",
       "      <th></th>\n",
       "      <th>household_id</th>\n",
       "      <th>owner_name</th>\n",
       "      <th>region</th>\n",
       "      <th>install_date</th>\n",
       "    </tr>\n",
       "  </thead>\n",
       "  <tbody>\n",
       "    <tr>\n",
       "      <th>0</th>\n",
       "      <td>HH000</td>\n",
       "      <td>Owner_005</td>\n",
       "      <td>West</td>\n",
       "      <td>2024-10-22</td>\n",
       "    </tr>\n",
       "    <tr>\n",
       "      <th>1</th>\n",
       "      <td>HH001</td>\n",
       "      <td>Owner_008</td>\n",
       "      <td>East</td>\n",
       "      <td>2024-10-22</td>\n",
       "    </tr>\n",
       "    <tr>\n",
       "      <th>2</th>\n",
       "      <td>HH002</td>\n",
       "      <td>Owner_005</td>\n",
       "      <td>East</td>\n",
       "      <td>2024-10-22</td>\n",
       "    </tr>\n",
       "    <tr>\n",
       "      <th>3</th>\n",
       "      <td>HH003</td>\n",
       "      <td>Owner_003</td>\n",
       "      <td>East</td>\n",
       "      <td>2024-10-22</td>\n",
       "    </tr>\n",
       "    <tr>\n",
       "      <th>4</th>\n",
       "      <td>HH004</td>\n",
       "      <td>Owner_001</td>\n",
       "      <td>East</td>\n",
       "      <td>2024-10-22</td>\n",
       "    </tr>\n",
       "  </tbody>\n",
       "</table>\n",
       "</div>"
      ],
      "text/plain": [
       "  household_id owner_name region install_date\n",
       "0        HH000  Owner_005   West   2024-10-22\n",
       "1        HH001  Owner_008   East   2024-10-22\n",
       "2        HH002  Owner_005   East   2024-10-22\n",
       "3        HH003  Owner_003   East   2024-10-22\n",
       "4        HH004  Owner_001   East   2024-10-22"
      ]
     },
     "execution_count": 18,
     "metadata": {},
     "output_type": "execute_result"
    }
   ],
   "source": [
    "df3.head()"
   ]
  },
  {
   "cell_type": "code",
   "execution_count": 20,
   "id": "37c34130",
   "metadata": {},
   "outputs": [],
   "source": [
    "df3.to_csv('data/household_info.csv',index=False)"
   ]
  },
  {
   "cell_type": "code",
   "execution_count": null,
   "id": "bac1ab8d",
   "metadata": {},
   "outputs": [],
   "source": []
  }
 ],
 "metadata": {
  "kernelspec": {
   "display_name": "Python 3.11 (pythonData)",
   "language": "python",
   "name": "myenv"
  },
  "language_info": {
   "codemirror_mode": {
    "name": "ipython",
    "version": 3
   },
   "file_extension": ".py",
   "mimetype": "text/x-python",
   "name": "python",
   "nbconvert_exporter": "python",
   "pygments_lexer": "ipython3",
   "version": "3.11.5"
  }
 },
 "nbformat": 4,
 "nbformat_minor": 5
}
